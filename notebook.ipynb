{
 "cells": [
  {
   "cell_type": "code",
   "execution_count": null,
   "metadata": {},
   "outputs": [],
   "source": [
    "!pip install langchain-openai\n",
    "!pip install langchain\n",
    "!pip install langchain-community\n",
    "\n",
    "import requests\n",
    "import getpass  # To securely enter API key in Jupyter\n",
    "\n",
    "# Prompt user to enter API key securely\n",
    "api_key = getpass.getpass(\"Enter your Groq API key: \")\n",
    "\n",
    "# Define the request function\n",
    "def get_groq_response(api_key, user_input):\n",
    "    url = \"https://api.groq.com/openai/v1/chat/completions\"\n",
    "    \n",
    "    headers = {\n",
    "        \"Content-Type\": \"application/json\",\n",
    "        \"Authorization\": f\"Bearer {api_key.strip()}\"  # Strip spaces/newlines\n",
    "    }\n",
    "    \n",
    "    payload = {\n",
    "        \"model\": \"llama3-8b-8192\",  # Ensure using the correct model\n",
    "        \"messages\": user_input\n",
    "    }\n",
    "    \n",
    "    response = requests.post(url, json=payload, headers=headers)\n",
    "    \n",
    "    if response.status_code == 200:\n",
    "        return response.json()[\"choices\"][0][\"message\"][\"content\"]\n",
    "    else:\n",
    "        return f\"Error: {response.status_code} - {response.text}\"\n",
    "\n",
    "# Continuous conversation loop\n",
    "conversation = []\n",
    "while True:\n",
    "    user_input = input(\"You: \")\n",
    "    if user_input.lower() in [\"exit\", \"quit\", \"bye\"]:\n",
    "        print(\"Ending conversation. Goodbye!\")\n",
    "        break\n",
    "    \n",
    "    conversation.append({\"role\": \"user\", \"content\": user_input})\n",
    "    response = get_groq_response(api_key, conversation)\n",
    "    \n",
    "    print(\"Bot:\", response)\n",
    "    conversation.append({\"role\": \"assistant\", \"content\": response})"
   ]
  }
 ],
 "metadata": {
  "language_info": {
   "name": "python"
  }
 },
 "nbformat": 4,
 "nbformat_minor": 2
}
